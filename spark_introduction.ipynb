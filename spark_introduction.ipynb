{
  "nbformat": 4,
  "nbformat_minor": 0,
  "metadata": {
    "colab": {
      "name": "spark_introduction.ipynb",
      "provenance": [],
      "authorship_tag": "ABX9TyOd2qB9zYiXIEMGY/fY37q+",
      "include_colab_link": true
    },
    "kernelspec": {
      "name": "python3",
      "display_name": "Python 3"
    },
    "language_info": {
      "name": "python"
    }
  },
  "cells": [
    {
      "cell_type": "markdown",
      "metadata": {
        "id": "view-in-github",
        "colab_type": "text"
      },
      "source": [
        "<a href=\"https://colab.research.google.com/github/laiananardi/learning_spark/blob/main/spark_introduction.ipynb\" target=\"_parent\"><img src=\"https://colab.research.google.com/assets/colab-badge.svg\" alt=\"Open In Colab\"/></a>"
      ]
    },
    {
      "cell_type": "markdown",
      "source": [
        "Link para tutorial: https://www.alura.com.br/artigos/iniciando-projeto-spark-no-colab"
      ],
      "metadata": {
        "id": "yScefqc-3IN9"
      }
    },
    {
      "cell_type": "code",
      "execution_count": 4,
      "metadata": {
        "id": "llYTwdve2haZ"
      },
      "outputs": [],
      "source": [
        "#Primeiro vamos precisar instalar uma JDK que vai permitir rodar código na linguagem Scala nas JVM (que é como o Spark foi construído)\n",
        "\n",
        "!apt-get install openjdk-8-jdk-headless -qq > /dev/null\n"
      ]
    },
    {
      "cell_type": "code",
      "source": [
        "#vamos baixar os arquivos do Spark na máquina virtual do Google.\n",
        "\n",
        "!wget -q https://archive.apache.org/dist/spark/spark-3.1.2/spark-3.1.2-bin-hadoop2.7.tgz\n"
      ],
      "metadata": {
        "id": "YOmzamhh2uqc"
      },
      "execution_count": 5,
      "outputs": []
    },
    {
      "cell_type": "code",
      "source": [
        "# descompactar o arquivo que fizemos download\n",
        "\n",
        "!tar xf spark-3.1.2-bin-hadoop2.7.tgz\n"
      ],
      "metadata": {
        "id": "EAVwIg1T2vvf"
      },
      "execution_count": 6,
      "outputs": []
    },
    {
      "cell_type": "code",
      "source": [
        "#instalar o pacote findspark\n",
        "\n",
        "!pip install -q findspark\n"
      ],
      "metadata": {
        "id": "ll5Putq43SBp"
      },
      "execution_count": 7,
      "outputs": []
    },
    {
      "cell_type": "code",
      "source": [
        "#passar para o ambiente Python e definir as variáveis.\n",
        "\n",
        "import os\n",
        "os.environ[\"JAVA_HOME\"] = \"/usr/lib/jvm/java-8-openjdk-amd64\"\n",
        "os.environ[\"SPARK_HOME\"] = \"/content/spark-3.1.2-bin-hadoop2.7\"\n"
      ],
      "metadata": {
        "id": "jWeFrWQn3V_F"
      },
      "execution_count": 8,
      "outputs": []
    },
    {
      "cell_type": "code",
      "source": [
        "#tilizar o findspark que vai permitir a importação dos pacotes necessários para utilizar o PySpark.\n",
        "\n",
        "import findspark\n",
        "findspark.init()"
      ],
      "metadata": {
        "id": "rWYa5eXj3lrf"
      },
      "execution_count": 9,
      "outputs": []
    },
    {
      "cell_type": "code",
      "source": [
        "#podemos, por exemplo, importar o SparkSession do módulo pyspark.sql\n",
        "\n",
        "from pyspark.sql import SparkSession\n"
      ],
      "metadata": {
        "id": "xDTEh3XY3u89"
      },
      "execution_count": 10,
      "outputs": []
    },
    {
      "cell_type": "code",
      "source": [
        "#criarmos a nossa sessão Spark, que nada mais é que a API que vamos utilizar para trabalhar com o Spark. Ela vai cuidar de toda a parte de gerenciamento dos nós do processamento em paralelo.\n",
        "\n",
        "spark = SparkSession.builder \\\n",
        "    .master('local[*]') \\\n",
        "    .appName('Iniciando com Spark') \\\n",
        "    .config('spark.ui.port', '4050') \\\n",
        "    .getOrCreate()\n"
      ],
      "metadata": {
        "id": "_NdwyomP32Wp"
      },
      "execution_count": 11,
      "outputs": []
    }
  ]
}